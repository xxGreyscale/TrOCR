{
 "cells": [
  {
   "cell_type": "code",
   "execution_count": 1,
   "id": "initial_id",
   "metadata": {
    "collapsed": true,
    "ExecuteTime": {
     "end_time": "2024-09-19T00:37:45.420226Z",
     "start_time": "2024-09-19T00:37:43.515368Z"
    }
   },
   "outputs": [],
   "source": [
    "# Combine all data into one file\n",
    "import pandas as pd\n",
    "import os\n"
   ]
  },
  {
   "cell_type": "code",
   "outputs": [
    {
     "name": "stdout",
     "output_type": "stream",
     "text": [
      "Creating file...\n",
      "111706\n",
      "139345\n",
      "120159\n",
      "118308\n",
      "File created\n"
     ]
    }
   ],
   "source": [
    "# Read all data\n",
    "# get all data from synthetic data\n",
    "data_path = 'datasets/printed/synthetic'\n",
    "data_files = os.listdir(data_path)\n",
    "\n",
    "# look for the file image_labels_dataset.csv, and get the path\n",
    "data_files = [os.path.join(data_path, file) for file in data_files]\n",
    "# change the characters \\\\ to /\n",
    "data_files = [file.replace('\\\\', '/') for file in data_files]\n",
    "# take only the files that have the extension image_labels_dataset.csv\n",
    "# open each file and read the data\n",
    "# empty \n",
    "with open('datasets/printed/synthetic/combined_data.txt', 'w', encoding='utf-8') as f:\n",
    "    print(\"Creating file...\")\n",
    "    for file in data_files:\n",
    "        if not os.path.isdir(file):\n",
    "            continue\n",
    "        dir_files = os.listdir(file)\n",
    "        for _file in dir_files:\n",
    "            if 'image_labels_dataset.csv' in _file:\n",
    "                csv = pd.read_csv(str(os.path.join(file, _file)))\n",
    "                print(csv.shape[0])\n",
    "                # take the image path and add the prefix of the path\n",
    "                image_paths = csv.image_path\n",
    "                # take the last part of the path\n",
    "                image_paths = [file.split('/')[-1] + '/' + image_path for image_path in image_paths]\n",
    "                labels = csv.label\n",
    "                # clean the labels\n",
    "                labels = [str(label).replace('\\n', '') for label in labels]\n",
    "                #  create a txt file with the image path and the labels\n",
    "                with open('datasets/printed/synthetic/combined_data.txt', 'a', encoding='utf-8') as g:\n",
    "                    for i in range(len(labels)):\n",
    "                        g.write(image_paths[i] + '  ' + labels[i] + '\\n')\n",
    "    print(\"File created\")"
   ],
   "metadata": {
    "collapsed": false,
    "ExecuteTime": {
     "end_time": "2024-09-19T01:06:40.780397Z",
     "start_time": "2024-09-19T01:06:38.827637Z"
    }
   },
   "id": "ff9527081e663778",
   "execution_count": 13
  },
  {
   "cell_type": "code",
   "outputs": [],
   "source": [
    "# Create a text file with the images path with the prefix being their respective path\n",
    "# get all data from synthetic data\n"
   ],
   "metadata": {
    "collapsed": false,
    "ExecuteTime": {
     "end_time": "2024-09-19T00:37:46.334757Z",
     "start_time": "2024-09-19T00:37:46.320738Z"
    }
   },
   "id": "1e35e3eed2c31380",
   "execution_count": 2
  }
 ],
 "metadata": {
  "kernelspec": {
   "display_name": "Python 3",
   "language": "python",
   "name": "python3"
  },
  "language_info": {
   "codemirror_mode": {
    "name": "ipython",
    "version": 2
   },
   "file_extension": ".py",
   "mimetype": "text/x-python",
   "name": "python",
   "nbconvert_exporter": "python",
   "pygments_lexer": "ipython2",
   "version": "2.7.6"
  }
 },
 "nbformat": 4,
 "nbformat_minor": 5
}
