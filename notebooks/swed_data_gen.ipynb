{
 "cells": [
  {
   "cell_type": "code",
   "execution_count": 1,
   "id": "initial_id",
   "metadata": {
    "collapsed": true,
    "ExecuteTime": {
     "end_time": "2024-07-12T00:31:16.611024Z",
     "start_time": "2024-07-12T00:31:11.917496900Z"
    }
   },
   "outputs": [],
   "source": [
    "import string\n",
    "import os\n",
    "\n",
    "from PIL import Image, ImageDraw, ImageFont\n",
    "import tensorflow as tf\n",
    "\n",
    "width_pad, height_pad = 4,8\n",
    "background_color = (0, 0, 0)  # RGB value for black"
   ]
  },
  {
   "cell_type": "code",
   "outputs": [],
   "source": [
    "assert tf.config.list_physical_devices('GPU'), \"No GPU is available.\""
   ],
   "metadata": {
    "collapsed": false,
    "ExecuteTime": {
     "end_time": "2024-07-12T00:31:16.750365Z",
     "start_time": "2024-07-12T00:31:16.734597900Z"
    }
   },
   "id": "c6c095e45d9a6a65",
   "execution_count": 2
  },
  {
   "cell_type": "code",
   "outputs": [],
   "source": [
    "data_dir = 'synth_data'\n",
    "# check if directory exists\n",
    "if not os.path.exists(data_dir):\n",
    "    os.makedirs(data_dir)\n",
    "characters = string.digits + string.ascii_letters + '?!.\\'\\\"ÅÄÖåäö'"
   ],
   "metadata": {
    "collapsed": false,
    "ExecuteTime": {
     "end_time": "2024-07-12T00:31:16.771109100Z",
     "start_time": "2024-07-12T00:31:16.753382100Z"
    }
   },
   "id": "be82ebc2b2426099",
   "execution_count": 3
  },
  {
   "cell_type": "code",
   "outputs": [],
   "source": [
    "# Get all fonts in synth_data/fonts\n",
    "font_dir = 'synth_data\\\\fonts'\n",
    "fonts = os.listdir(font_dir)\n",
    "# get all .tff files in the fonts subdirectories\n",
    "fonts = [os.path.join(font_dir, font) for font in fonts]\n",
    "fonts = [os.path.join(font, f) for font in fonts for f in os.listdir(font) if f.endswith('.ttf')]\n",
    "synthetic_dataset_dir = data_dir + '\\\\synthetic_dataset'\n",
    "for i in range(len(characters)):\n",
    "    # create a directory for each character\n",
    "    if characters[i] == '?':\n",
    "        char_dir = os.path.join(synthetic_dataset_dir, 'question_mark')\n",
    "    elif characters[i] == '\\\"':\n",
    "        char_dir = os.path.join(synthetic_dataset_dir, 'double_quote')\n",
    "    elif characters[i] == '.':\n",
    "        char_dir = os.path.join(synthetic_dataset_dir, 'period')\n",
    "    elif characters[i].isupper():\n",
    "        char_dir = os.path.join(synthetic_dataset_dir, '_'+characters[i])\n",
    "    else:\n",
    "        char_dir = os.path.join(synthetic_dataset_dir, characters[i])\n",
    "    if not os.path.exists(char_dir):\n",
    "        os.makedirs(char_dir)\n",
    "    # create an image for each character in each font\n",
    "    for index, font in enumerate(fonts):\n",
    "        # get all .tff files in the fonts directory\n",
    "        typed_text = ImageFont.truetype(font, size=32)\n",
    "        width = int(typed_text.getlength(characters[i]) + width_pad)\n",
    "        height = int(typed_text.size + height_pad)\n",
    "        image = Image.new(\"RGB\", (width, height), background_color)\n",
    "        draw = ImageDraw.Draw(image)\n",
    "        # write the text in the center of the image\n",
    "        x_center = width // 2\n",
    "        y_center = height // 2\n",
    "\n",
    "        # Write the text in the center of the image\n",
    "        draw.text((x_center, y_center), characters[i], fill=(255, 255, 255), font=typed_text, anchor='mm', align='center')\n",
    "        # Save the image\n",
    "        image.save(os.path.join(char_dir, f'{index}.png'))\n",
    "    "
   ],
   "metadata": {
    "collapsed": false,
    "ExecuteTime": {
     "end_time": "2024-07-12T00:34:26.448655500Z",
     "start_time": "2024-07-12T00:31:16.773131600Z"
    }
   },
   "id": "27592a674a32fb9f",
   "execution_count": 4
  }
 ],
 "metadata": {
  "kernelspec": {
   "display_name": "Python 3",
   "language": "python",
   "name": "python3"
  },
  "language_info": {
   "codemirror_mode": {
    "name": "ipython",
    "version": 2
   },
   "file_extension": ".py",
   "mimetype": "text/x-python",
   "name": "python",
   "nbconvert_exporter": "python",
   "pygments_lexer": "ipython2",
   "version": "2.7.6"
  }
 },
 "nbformat": 4,
 "nbformat_minor": 5
}
