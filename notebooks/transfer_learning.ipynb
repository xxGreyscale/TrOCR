{
 "cells": [
  {
   "cell_type": "code",
   "execution_count": 1,
   "id": "initial_id",
   "metadata": {
    "collapsed": true,
    "ExecuteTime": {
     "end_time": "2024-07-05T00:15:37.158312300Z",
     "start_time": "2024-07-05T00:15:27.957322900Z"
    }
   },
   "outputs": [],
   "source": [
    "import tensorflow as tf\n",
    "from tensorflow import keras\n",
    "from tensorflow.keras import layers\n",
    "import wandb\n",
    "from wandb.integration.keras import WandbMetricsLogger\n"
   ]
  },
  {
   "cell_type": "code",
   "outputs": [
    {
     "name": "stderr",
     "output_type": "stream",
     "text": [
      "\u001B[34m\u001B[1mwandb\u001B[0m: Currently logged in as: \u001B[33msalim-nassor-sn\u001B[0m. Use \u001B[1m`wandb login --relogin`\u001B[0m to force relogin\n"
     ]
    },
    {
     "data": {
      "text/plain": "<IPython.core.display.HTML object>",
      "text/html": "wandb version 0.17.4 is available!  To upgrade, please run:\n $ pip install wandb --upgrade"
     },
     "metadata": {},
     "output_type": "display_data"
    },
    {
     "data": {
      "text/plain": "<IPython.core.display.HTML object>",
      "text/html": "Tracking run with wandb version 0.17.3"
     },
     "metadata": {},
     "output_type": "display_data"
    },
    {
     "data": {
      "text/plain": "<IPython.core.display.HTML object>",
      "text/html": "Run data is saved locally in <code>C:\\Users\\salim\\Desktop\\macos\\pythonProject\\wandb\\run-20240705_021539-u0zzw7mk</code>"
     },
     "metadata": {},
     "output_type": "display_data"
    },
    {
     "data": {
      "text/plain": "<IPython.core.display.HTML object>",
      "text/html": "Syncing run <strong><a href='https://wandb.ai/salim-nassor-sn/transfer-learning/runs/u0zzw7mk' target=\"_blank\">dark-shape-1</a></strong> to <a href='https://wandb.ai/salim-nassor-sn/transfer-learning' target=\"_blank\">Weights & Biases</a> (<a href='https://wandb.me/run' target=\"_blank\">docs</a>)<br/>"
     },
     "metadata": {},
     "output_type": "display_data"
    },
    {
     "data": {
      "text/plain": "<IPython.core.display.HTML object>",
      "text/html": " View project at <a href='https://wandb.ai/salim-nassor-sn/transfer-learning' target=\"_blank\">https://wandb.ai/salim-nassor-sn/transfer-learning</a>"
     },
     "metadata": {},
     "output_type": "display_data"
    },
    {
     "data": {
      "text/plain": "<IPython.core.display.HTML object>",
      "text/html": " View run at <a href='https://wandb.ai/salim-nassor-sn/transfer-learning/runs/u0zzw7mk' target=\"_blank\">https://wandb.ai/salim-nassor-sn/transfer-learning/runs/u0zzw7mk</a>"
     },
     "metadata": {},
     "output_type": "display_data"
    },
    {
     "data": {
      "text/html": "<button onClick=\"this.nextSibling.style.display='block';this.style.display='none';\">Display W&B run</button><iframe src='https://wandb.ai/salim-nassor-sn/transfer-learning/runs/u0zzw7mk?jupyter=true' style='border:none;width:100%;height:420px;display:none;'></iframe>",
      "text/plain": "<wandb.sdk.wandb_run.Run at 0x2bab6662260>"
     },
     "execution_count": 2,
     "metadata": {},
     "output_type": "execute_result"
    }
   ],
   "source": [
    "wandb.init(\n",
    "    project=\"transfer-learning\",\n",
    "    config={\n",
    "        \"batch_size\": 32,\n",
    "        \"padding_token\": 120,\n",
    "        \"image_width\": 128,\n",
    "        \"image_height\": 32,\n",
    "        \"layer_1\": 32,\n",
    "        'activation_1': 'relu',\n",
    "        \"dropout_1\": 0.2,\n",
    "        \"layer_2\": 64,\n",
    "        'activation_2': 'relu',\n",
    "        \"dropout_2\": 0.2,\n",
    "        \"layer_3\": 64,\n",
    "        'activation_3': 'relu',\n",
    "        \"dropout_3\": 0.2,\n",
    "        \"lstm_layer_1\": 128,\n",
    "        \"lstm_dropout_1\": 0.25,\n",
    "        \"lstm_layer_2\": 64,\n",
    "        \"lstm_dropout_2\": 0.25,\n",
    "        \"output_layer_activation\": \"softmax\",\n",
    "        \"optimizer\": \"adam\",\n",
    "        \"loss\": \"ctc_loss\",\n",
    "        \"metrics\": [\"edit_distance\"],\n",
    "        \"epochs\": 200,\n",
    "    },\n",
    ")"
   ],
   "metadata": {
    "collapsed": false,
    "ExecuteTime": {
     "end_time": "2024-07-05T00:15:40.038285600Z",
     "start_time": "2024-07-05T00:15:37.157312100Z"
    }
   },
   "id": "b462fbb82889b453",
   "execution_count": 2
  },
  {
   "cell_type": "code",
   "outputs": [],
   "source": [
    "# Define the CTC loss function.\n",
    "class CTCLayer(keras.layers.Layer):\n",
    "    def __init__(self, name=None, trainable=True, **kwargs):\n",
    "        super().__init__(name=name, trainable=trainable, **kwargs)\n",
    "        self.loss_fn = keras.backend.ctc_batch_cost\n",
    "\n",
    "    def call(self, inputs, **kwargs):\n",
    "        y_true, y_pred = inputs\n",
    "        batch_len = tf.cast(tf.shape(y_true)[0], dtype=\"int64\")\n",
    "        input_length = tf.cast(tf.shape(y_pred)[1], dtype=\"int64\")\n",
    "        label_length = tf.cast(tf.shape(y_true)[1], dtype=\"int64\")\n",
    "\n",
    "        input_length = input_length * tf.ones(shape=(batch_len, 1), dtype=\"int64\")\n",
    "        label_length = label_length * tf.ones(shape=(batch_len, 1), dtype=\"int64\")\n",
    "        loss = self.loss_fn(y_true, y_pred, input_length, label_length)\n",
    "        self.add_loss(loss)\n",
    "\n",
    "        # At test time, just return the computed predictions.\n",
    "        return y_pred\n",
    "    \n",
    "    def get_config(self):\n",
    "        base_config = super().get_config()\n",
    "        return base_config\n"
   ],
   "metadata": {
    "collapsed": false,
    "ExecuteTime": {
     "end_time": "2024-07-05T00:24:20.562152500Z",
     "start_time": "2024-07-05T00:24:20.545150800Z"
    }
   },
   "id": "5b6049eadd8f97ae",
   "execution_count": 8
  },
  {
   "cell_type": "code",
   "outputs": [
    {
     "name": "stdout",
     "output_type": "stream",
     "text": [
      "Model: \"htr_model_se_v1\"\n",
      "__________________________________________________________________________________________________\n",
      " Layer (type)                   Output Shape         Param #     Connected to                     \n",
      "==================================================================================================\n",
      " image (InputLayer)             [(None, 128, 32, 1)  0           []                               \n",
      "                                ]                                                                 \n",
      "                                                                                                  \n",
      " Conv1 (Conv2D)                 (None, 128, 32, 32)  320         ['image[0][0]']                  \n",
      "                                                                                                  \n",
      " pool1 (MaxPooling2D)           (None, 64, 16, 32)   0           ['Conv1[0][0]']                  \n",
      "                                                                                                  \n",
      " dropout_3 (Dropout)            (None, 64, 16, 32)   0           ['pool1[0][0]']                  \n",
      "                                                                                                  \n",
      " Conv2 (Conv2D)                 (None, 64, 16, 64)   32832       ['dropout_3[0][0]']              \n",
      "                                                                                                  \n",
      " dropout_4 (Dropout)            (None, 64, 16, 64)   0           ['Conv2[0][0]']                  \n",
      "                                                                                                  \n",
      " reshape (Reshape)              (None, 64, 1024)     0           ['dropout_4[0][0]']              \n",
      "                                                                                                  \n",
      " dense1 (Dense)                 (None, 64, 64)       65600       ['reshape[0][0]']                \n",
      "                                                                                                  \n",
      " dropout_5 (Dropout)            (None, 64, 64)       0           ['dense1[0][0]']                 \n",
      "                                                                                                  \n",
      " bidirectional_2 (Bidirectional  (None, 64, 256)     197632      ['dropout_5[0][0]']              \n",
      " )                                                                                                \n",
      "                                                                                                  \n",
      " bidirectional_3 (Bidirectional  (None, 64, 128)     164352      ['bidirectional_2[0][0]']        \n",
      " )                                                                                                \n",
      "                                                                                                  \n",
      " label (InputLayer)             [(None, None)]       0           []                               \n",
      "                                                                                                  \n",
      " dense2 (Dense)                 (None, 64, 108)      13932       ['bidirectional_3[0][0]']        \n",
      "                                                                                                  \n",
      " ctc_loss (CTCLayer)            (None, 64, 108)      0           ['label[0][0]',                  \n",
      "                                                                  'dense2[0][0]']                 \n",
      "                                                                                                  \n",
      "==================================================================================================\n",
      "Total params: 474,668\n",
      "Trainable params: 474,668\n",
      "Non-trainable params: 0\n",
      "__________________________________________________________________________________________________\n"
     ]
    }
   ],
   "source": [
    "# load the model\n",
    "base_model = keras.models.load_model(\"htr_model_se_v1/model.keras\", custom_objects={\"CTCLayer\": CTCLayer})\n",
    "base_model.summary()"
   ],
   "metadata": {
    "collapsed": false,
    "ExecuteTime": {
     "end_time": "2024-07-05T00:24:23.318903700Z",
     "start_time": "2024-07-05T00:24:21.524938800Z"
    }
   },
   "id": "fd5323bb91127a33",
   "execution_count": 9
  },
  {
   "cell_type": "code",
   "outputs": [],
   "source": [
    "base_model.trainable = False"
   ],
   "metadata": {
    "collapsed": false,
    "ExecuteTime": {
     "end_time": "2024-07-05T00:25:13.493700300Z",
     "start_time": "2024-07-05T00:25:13.481700700Z"
    }
   },
   "id": "f8d8faf4555ff009",
   "execution_count": 10
  },
  {
   "cell_type": "code",
   "outputs": [],
   "source": [],
   "metadata": {
    "collapsed": false
   },
   "id": "18c3979cdd28c34e"
  }
 ],
 "metadata": {
  "kernelspec": {
   "display_name": "Python 3",
   "language": "python",
   "name": "python3"
  },
  "language_info": {
   "codemirror_mode": {
    "name": "ipython",
    "version": 2
   },
   "file_extension": ".py",
   "mimetype": "text/x-python",
   "name": "python",
   "nbconvert_exporter": "python",
   "pygments_lexer": "ipython2",
   "version": "2.7.6"
  }
 },
 "nbformat": 4,
 "nbformat_minor": 5
}
